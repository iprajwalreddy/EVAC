{
 "cells": [
  {
   "cell_type": "code",
   "execution_count": null,
   "metadata": {},
   "outputs": [],
   "source": [
    "# Bunch of imports\n",
    "# System path should be changed to where the git repo is.\n",
    "import sys\n",
    "import tensorflow as tf\n",
    "import models as models\n",
    "import lattice_filter_op_loader\n",
    "\n",
    "custom_module = lattice_filter_op_loader.module"
   ]
  },
  {
   "cell_type": "code",
   "execution_count": null,
   "metadata": {},
   "outputs": [],
   "source": [
    "# Set GPU and batch size\n",
    "# Can set a different batch size, or skip if CPU\n",
    "strategy = models.set_GPU()\n",
    "BATCH_SIZE_PER_REPLICA = 1\n",
    "BATCH_SIZE = BATCH_SIZE_PER_REPLICA * strategy.num_replicas_in_sync"
   ]
  },
  {
   "cell_type": "code",
   "execution_count": null,
   "metadata": {},
   "outputs": [],
   "source": [
    "# some information needed\n",
    "# despite the name input_dir can be a single file\n",
    "input_dir = ''\n",
    "output_dir = ''\n",
    "model_type = 'evac_plus'"
   ]
  },
  {
   "cell_type": "code",
   "execution_count": null,
   "metadata": {},
   "outputs": [],
   "source": [
    "# Load the pre-trained model\n",
    "model = models.load_model(version='trained', model_type=model_type)"
   ]
  },
  {
   "cell_type": "code",
   "execution_count": null,
   "metadata": {},
   "outputs": [],
   "source": [
    "# Test the model\n",
    "# The outputs will be saved in the given output directory\n",
    "models.test_model(model, input_dir, output_dir, batch_size=1)"
   ]
  }
 ],
 "metadata": {
  "kernelspec": {
   "display_name": "Python 3.8.15 ('evac')",
   "language": "python",
   "name": "python3"
  },
  "language_info": {
   "name": "python",
   "version": "3.8.15"
  },
  "orig_nbformat": 4,
  "vscode": {
   "interpreter": {
    "hash": "2508f97ce0e5f3b1d4688590b37d9a5b09bdd78314782358de3fb413156098bc"
   }
  }
 },
 "nbformat": 4,
 "nbformat_minor": 2
}
